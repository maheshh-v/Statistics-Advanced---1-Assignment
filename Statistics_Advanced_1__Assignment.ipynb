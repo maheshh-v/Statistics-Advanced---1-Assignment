{
  "nbformat": 4,
  "nbformat_minor": 0,
  "metadata": {
    "colab": {
      "provenance": []
    },
    "kernelspec": {
      "name": "python3",
      "display_name": "Python 3"
    },
    "language_info": {
      "name": "python"
    }
  },
  "cells": [
    {
      "cell_type": "code",
      "execution_count": null,
      "metadata": {
        "id": "38Jtgv82aMks"
      },
      "outputs": [],
      "source": []
    },
    {
      "cell_type": "markdown",
      "source": [
        "### Question 1: What is a random variable in probability theory?\n",
        "a value from the set of expected value , or we can say a value which is not fixed and can take any value .\n",
        "\n",
        "### Question 2: What are the types of random variables?\n",
        "Random variables are generally categorized into two main types: discrete and continuous.\n",
        "\n",
        "### Question 3: Explain the difference between discrete and continuous distributions.\n",
        "descrete distribution contains descrete values ,like the whole values, while the continuous distiribution can take any value from a given range.\n",
        "\n",
        "### Question 4: What is a binomial distribution, and how is it used in probability?\n",
        "\n",
        "binomial distribution can be understand as 'n' bernauli distributions . it also can take binary outcomes but with n bernauli trials.\n",
        "PMF of binomial distributionn = nCk p^k (1-p)^k\n",
        "\n",
        "- n -no. of trial\n",
        "- p - probability\n",
        "- k - the number of successes you're interested in\n",
        "### Question 5: What is the standard normal distribution, and why is it important?\n",
        "standard normal distribution is a special type of distribution which has mean = 0 and std deviation = 1.\n",
        "it is also called as z distribution. it is important because it allows as to compare from other distributions and calculate probabilties easily.\n",
        "\n",
        "### Question 6: What is the Central Limit Theorem (CLT), and why is it critical in statistics?\n",
        "CLT states that sample mean of population will be approx to the normal distribution mean.\n",
        "\n",
        "sample distribution mean - mean / std dev . root n\n",
        "\n",
        "n - no. of samples.\n",
        "\n",
        "it is critical because it gives info about the irregular distributions.\n",
        "\n",
        "there are two condition of central limit theoram.\n",
        "\n",
        "- the no. of samples should be large\n",
        "- sample size should be greate then 30( except the population distribution of normal distribution)\n",
        "\n",
        "\n",
        "### Question 7: What is the significance of confidence intervals in statistical analysis?\n",
        "Confidence intervals provide a range of values within which we can be reasonably confident that the true population parameter (like the average) lies, based on our sample data. They help us understand the uncertainty around our sample estimates and draw more robust conclusions about the population.\n",
        "\n",
        "### Question 8: What is the concept of expected value in a probability distribution?\n",
        "\n",
        "expected value represent long term average value of random variable.\n",
        "\n",
        "EV - submission of Xi.p(X)\n",
        "\n",
        "here x is random variable\n",
        "\n",
        "mean is used for fixed distribution , where expected value is used in probabiltiy distribution. it is just mean value in long run ."
      ],
      "metadata": {
        "id": "3f26eN4xaNTV"
      }
    },
    {
      "cell_type": "code",
      "source": [
        "# Question 9: Write a Python program to generate 1000 random numbers from a normal\n",
        "# distribution with mean = 50 and standard deviation = 5. Compute its mean and standard\n",
        "# deviation using NumPy, and draw a histogram to visualize the distribution.\n",
        "\n",
        "import random\n",
        "import numpy as np\n",
        "import matplotlib.pyplot as plt\n",
        "\n",
        "nd = np.random.normal(50,5,1000)\n",
        "\n",
        "print(np.mean(nd))\n",
        "print(np.std(nd))\n",
        "\n",
        "plt.hist(nd)\n",
        "plt.show()\n",
        "\n"
      ],
      "metadata": {
        "id": "PIM3-I7PoJHo",
        "colab": {
          "base_uri": "https://localhost:8080/",
          "height": 465
        },
        "outputId": "ec143ec7-189e-4563-c079-434ee9238c1f"
      },
      "execution_count": 6,
      "outputs": [
        {
          "output_type": "stream",
          "name": "stdout",
          "text": [
            "50.04714476088154\n",
            "5.006243507212482\n"
          ]
        },
        {
          "output_type": "display_data",
          "data": {
            "text/plain": [
              "<Figure size 640x480 with 1 Axes>"
            ],
            "image/png": "[encoded data removed]"
          },
          "metadata": {}
        }
      ]
    },
    {
      "cell_type": "code",
      "source": [
        "# Question 10: You are working as a data analyst for a retail company. The company has\n",
        "# collected daily sales data for 2 years and wants you to identify the overall sales trend.\n",
        "# daily_sales = [220, 245, 210, 265, 230, 250, 260, 275, 240, 255,\n",
        "#  235, 260, 245, 250, 225, 270, 265, 255, 250, 260]\n",
        "# ● Explain how you would apply the Central Limit Theorem to estimate the average sales\n",
        "# with a 95% confidence interval.\n",
        "# ● Write the Python code to compute the mean sales and its confidence interval.\n",
        "# (Include your Python code and output in the code box below.)"
      ],
      "metadata": {
        "id": "zzl8Xz_IsvHb"
      },
      "execution_count": 7,
      "outputs": []
    },
    {
      "cell_type": "code",
      "metadata": {
        "colab": {
          "base_uri": "https://localhost:8080/"
        },
        "id": "34ee7366",
        "outputId": "c7d6ea16-e1cd-47f1-ab78-7b71df86df88"
      },
      "source": [
        "import numpy as np\n",
        "from scipy import stats\n",
        "\n",
        "daily_sales = [220, 245, 210, 265, 230, 250, 260, 275, 240, 255,\n",
        " 235, 260, 245, 250, 225, 270, 265, 255, 250, 260]\n",
        "\n",
        "sample_mean = np.mean(daily_sales)\n",
        "sample_std = np.std(daily_sales, ddof=1)\n",
        "# Sample size\n",
        "n = len(daily_sales)\n",
        "\n",
        "# Confidence level\n",
        "confidence_level = 0.95\n",
        "\n",
        "# Calculate the standard error of the mean\n",
        "standard_error = sample_std / np.sqrt(n)\n",
        "\n",
        "# Calculate the margin of error (using t-distribution since sample size is small and population std is unknown)\n",
        "# For a large sample size (n>30), you could use the z-distribution.\n",
        "# Degrees of freedom for t-distribution is n-1\n",
        "degrees_freedom = n - 1\n",
        "alpha = 1 - confidence_level\n",
        "t_critical = stats.t.ppf(1 - alpha/2, degrees_freedom)\n",
        "margin_of_error = t_critical * standard_error\n",
        "\n",
        "confidence_interval = (sample_mean - margin_of_error, sample_mean + margin_of_error)\n",
        "\n",
        "print(f\"Sample Mean Sales: {sample_mean:.2f}\")\n",
        "print(f\"95% Confidence Interval for Mean Sales: ({confidence_interval[0]:.2f}, {confidence_interval[1]:.2f})\")"
      ],
      "execution_count": 8,
      "outputs": [
        {
          "output_type": "stream",
          "name": "stdout",
          "text": [
            "Sample Mean Sales: 248.25\n",
            "95% Confidence Interval for Mean Sales: (240.17, 256.33)\n"
          ]
        }
      ]
    }
  ]
}